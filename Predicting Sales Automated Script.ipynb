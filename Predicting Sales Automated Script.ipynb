{
 "cells": [
  {
   "cell_type": "code",
   "execution_count": 23,
   "metadata": {},
   "outputs": [],
   "source": [
    "import pandas as pd\n",
    "import numpy as np\n",
    "from __future__ import division\n",
    "import warnings\n",
    "warnings.filterwarnings(\"ignore\")\n",
    "import pickle\n",
    "df_sales = pd.read_csv('out.csv')\n",
    "from keras.models import load_model"
   ]
  },
  {
   "cell_type": "code",
   "execution_count": 24,
   "metadata": {},
   "outputs": [],
   "source": [
    "df_sales = df_sales.drop('Unnamed: 0', axis=1)"
   ]
  },
  {
   "cell_type": "code",
   "execution_count": 25,
   "metadata": {},
   "outputs": [],
   "source": [
    "df_sales['invoice_date'] = pd.to_datetime(df_sales['invoice_date'])\n",
    "df_sales['invoice_date'] = df_sales['invoice_date'].dt.year.astype('str') + '-' + df_sales['invoice_date'].dt.month.astype('str') + '-01'\n",
    "df_sales['invoice_date'] = pd.to_datetime(df_sales['invoice_date'])\n",
    "df_sales = df_sales.groupby('invoice_date').quantity.sum().reset_index()"
   ]
  },
  {
   "cell_type": "code",
   "execution_count": 26,
   "metadata": {},
   "outputs": [
    {
     "data": {
      "text/html": [
       "<div>\n",
       "<style scoped>\n",
       "    .dataframe tbody tr th:only-of-type {\n",
       "        vertical-align: middle;\n",
       "    }\n",
       "\n",
       "    .dataframe tbody tr th {\n",
       "        vertical-align: top;\n",
       "    }\n",
       "\n",
       "    .dataframe thead th {\n",
       "        text-align: right;\n",
       "    }\n",
       "</style>\n",
       "<table border=\"1\" class=\"dataframe\">\n",
       "  <thead>\n",
       "    <tr style=\"text-align: right;\">\n",
       "      <th></th>\n",
       "      <th>invoice_date</th>\n",
       "      <th>quantity</th>\n",
       "    </tr>\n",
       "  </thead>\n",
       "  <tbody>\n",
       "    <tr>\n",
       "      <th>0</th>\n",
       "      <td>2019-12-01</td>\n",
       "      <td>312280</td>\n",
       "    </tr>\n",
       "    <tr>\n",
       "      <th>1</th>\n",
       "      <td>2020-01-01</td>\n",
       "      <td>349159</td>\n",
       "    </tr>\n",
       "    <tr>\n",
       "      <th>2</th>\n",
       "      <td>2020-02-01</td>\n",
       "      <td>265638</td>\n",
       "    </tr>\n",
       "    <tr>\n",
       "      <th>3</th>\n",
       "      <td>2020-03-01</td>\n",
       "      <td>348544</td>\n",
       "    </tr>\n",
       "    <tr>\n",
       "      <th>4</th>\n",
       "      <td>2020-04-01</td>\n",
       "      <td>292225</td>\n",
       "    </tr>\n",
       "    <tr>\n",
       "      <th>5</th>\n",
       "      <td>2020-05-01</td>\n",
       "      <td>373685</td>\n",
       "    </tr>\n",
       "    <tr>\n",
       "      <th>6</th>\n",
       "      <td>2020-06-01</td>\n",
       "      <td>363699</td>\n",
       "    </tr>\n",
       "    <tr>\n",
       "      <th>7</th>\n",
       "      <td>2020-07-01</td>\n",
       "      <td>369434</td>\n",
       "    </tr>\n",
       "    <tr>\n",
       "      <th>8</th>\n",
       "      <td>2020-08-01</td>\n",
       "      <td>398938</td>\n",
       "    </tr>\n",
       "    <tr>\n",
       "      <th>9</th>\n",
       "      <td>2020-09-01</td>\n",
       "      <td>544899</td>\n",
       "    </tr>\n",
       "    <tr>\n",
       "      <th>10</th>\n",
       "      <td>2020-10-01</td>\n",
       "      <td>594443</td>\n",
       "    </tr>\n",
       "  </tbody>\n",
       "</table>\n",
       "</div>"
      ],
      "text/plain": [
       "   invoice_date  quantity\n",
       "0    2019-12-01    312280\n",
       "1    2020-01-01    349159\n",
       "2    2020-02-01    265638\n",
       "3    2020-03-01    348544\n",
       "4    2020-04-01    292225\n",
       "5    2020-05-01    373685\n",
       "6    2020-06-01    363699\n",
       "7    2020-07-01    369434\n",
       "8    2020-08-01    398938\n",
       "9    2020-09-01    544899\n",
       "10   2020-10-01    594443"
      ]
     },
     "execution_count": 26,
     "metadata": {},
     "output_type": "execute_result"
    }
   ],
   "source": [
    "df_sales"
   ]
  },
  {
   "cell_type": "code",
   "execution_count": 27,
   "metadata": {},
   "outputs": [],
   "source": [
    "df_sales.columns=['date','sales']"
   ]
  },
  {
   "cell_type": "code",
   "execution_count": null,
   "metadata": {
    "scrolled": false
   },
   "outputs": [],
   "source": []
  },
  {
   "cell_type": "code",
   "execution_count": 28,
   "metadata": {},
   "outputs": [
    {
     "data": {
      "text/html": [
       "<div>\n",
       "<style scoped>\n",
       "    .dataframe tbody tr th:only-of-type {\n",
       "        vertical-align: middle;\n",
       "    }\n",
       "\n",
       "    .dataframe tbody tr th {\n",
       "        vertical-align: top;\n",
       "    }\n",
       "\n",
       "    .dataframe thead th {\n",
       "        text-align: right;\n",
       "    }\n",
       "</style>\n",
       "<table border=\"1\" class=\"dataframe\">\n",
       "  <thead>\n",
       "    <tr style=\"text-align: right;\">\n",
       "      <th></th>\n",
       "      <th>date</th>\n",
       "      <th>sales</th>\n",
       "      <th>prev_sales</th>\n",
       "      <th>diff</th>\n",
       "    </tr>\n",
       "  </thead>\n",
       "  <tbody>\n",
       "    <tr>\n",
       "      <th>1</th>\n",
       "      <td>2020-01-01</td>\n",
       "      <td>349159</td>\n",
       "      <td>312280.0</td>\n",
       "      <td>36879.0</td>\n",
       "    </tr>\n",
       "    <tr>\n",
       "      <th>2</th>\n",
       "      <td>2020-02-01</td>\n",
       "      <td>265638</td>\n",
       "      <td>349159.0</td>\n",
       "      <td>-83521.0</td>\n",
       "    </tr>\n",
       "    <tr>\n",
       "      <th>3</th>\n",
       "      <td>2020-03-01</td>\n",
       "      <td>348544</td>\n",
       "      <td>265638.0</td>\n",
       "      <td>82906.0</td>\n",
       "    </tr>\n",
       "    <tr>\n",
       "      <th>4</th>\n",
       "      <td>2020-04-01</td>\n",
       "      <td>292225</td>\n",
       "      <td>348544.0</td>\n",
       "      <td>-56319.0</td>\n",
       "    </tr>\n",
       "    <tr>\n",
       "      <th>5</th>\n",
       "      <td>2020-05-01</td>\n",
       "      <td>373685</td>\n",
       "      <td>292225.0</td>\n",
       "      <td>81460.0</td>\n",
       "    </tr>\n",
       "    <tr>\n",
       "      <th>6</th>\n",
       "      <td>2020-06-01</td>\n",
       "      <td>363699</td>\n",
       "      <td>373685.0</td>\n",
       "      <td>-9986.0</td>\n",
       "    </tr>\n",
       "    <tr>\n",
       "      <th>7</th>\n",
       "      <td>2020-07-01</td>\n",
       "      <td>369434</td>\n",
       "      <td>363699.0</td>\n",
       "      <td>5735.0</td>\n",
       "    </tr>\n",
       "    <tr>\n",
       "      <th>8</th>\n",
       "      <td>2020-08-01</td>\n",
       "      <td>398938</td>\n",
       "      <td>369434.0</td>\n",
       "      <td>29504.0</td>\n",
       "    </tr>\n",
       "    <tr>\n",
       "      <th>9</th>\n",
       "      <td>2020-09-01</td>\n",
       "      <td>544899</td>\n",
       "      <td>398938.0</td>\n",
       "      <td>145961.0</td>\n",
       "    </tr>\n",
       "    <tr>\n",
       "      <th>10</th>\n",
       "      <td>2020-10-01</td>\n",
       "      <td>594443</td>\n",
       "      <td>544899.0</td>\n",
       "      <td>49544.0</td>\n",
       "    </tr>\n",
       "  </tbody>\n",
       "</table>\n",
       "</div>"
      ],
      "text/plain": [
       "         date   sales  prev_sales      diff\n",
       "1  2020-01-01  349159    312280.0   36879.0\n",
       "2  2020-02-01  265638    349159.0  -83521.0\n",
       "3  2020-03-01  348544    265638.0   82906.0\n",
       "4  2020-04-01  292225    348544.0  -56319.0\n",
       "5  2020-05-01  373685    292225.0   81460.0\n",
       "6  2020-06-01  363699    373685.0   -9986.0\n",
       "7  2020-07-01  369434    363699.0    5735.0\n",
       "8  2020-08-01  398938    369434.0   29504.0\n",
       "9  2020-09-01  544899    398938.0  145961.0\n",
       "10 2020-10-01  594443    544899.0   49544.0"
      ]
     },
     "execution_count": 28,
     "metadata": {},
     "output_type": "execute_result"
    }
   ],
   "source": [
    "#create a new dataframe to model the difference\n",
    "df_diff = df_sales.copy()\n",
    "#add previous sales to the next row\n",
    "df_diff['prev_sales'] = df_diff['sales'].shift(1)\n",
    "#drop the null values and calculate the difference\n",
    "df_diff = df_diff.dropna()\n",
    "df_diff['diff'] = (df_diff['sales'] - df_diff['prev_sales'])\n",
    "df_diff.head(10)"
   ]
  },
  {
   "cell_type": "code",
   "execution_count": 29,
   "metadata": {},
   "outputs": [],
   "source": [
    "#create dataframe for transformation from time series to supervised\n",
    "df_supervised = df_diff.drop(['prev_sales'],axis=1)\n",
    "#adding lags\n",
    "for inc in range(1,3):\n",
    "    field_name = 'lag_' + str(inc)\n",
    "    df_supervised[field_name] = df_supervised['diff'].shift(inc)\n",
    "#drop null values\n",
    "df_supervised = df_supervised.dropna().reset_index(drop=True)"
   ]
  },
  {
   "cell_type": "code",
   "execution_count": null,
   "metadata": {},
   "outputs": [],
   "source": []
  },
  {
   "cell_type": "code",
   "execution_count": null,
   "metadata": {},
   "outputs": [],
   "source": []
  },
  {
   "cell_type": "code",
   "execution_count": 30,
   "metadata": {},
   "outputs": [],
   "source": [
    "#import MinMaxScaler and create a new dataframe for LSTM model\n",
    "from sklearn.preprocessing import MinMaxScaler\n",
    "df_model = df_supervised.drop(['sales','date'],axis=1)\n",
    "#split train and test set\n",
    "test_set = df_model[-6:].values"
   ]
  },
  {
   "cell_type": "code",
   "execution_count": 31,
   "metadata": {},
   "outputs": [],
   "source": [
    "#apply Min Max Scaler\n",
    "scaler = pickle.load(open('scaler.sav','rb'))\n",
    "# reshape test set\n",
    "test_set = test_set.reshape(test_set.shape[0], test_set.shape[1])\n",
    "test_set_scaled = scaler.transform(test_set)"
   ]
  },
  {
   "cell_type": "code",
   "execution_count": 32,
   "metadata": {},
   "outputs": [],
   "source": [
    "X_test = test_set_scaled[:, 1:]\n",
    "X_test = X_test.reshape(X_test.shape[0], 1, X_test.shape[1])"
   ]
  },
  {
   "cell_type": "code",
   "execution_count": null,
   "metadata": {},
   "outputs": [],
   "source": []
  },
  {
   "cell_type": "code",
   "execution_count": 33,
   "metadata": {
    "scrolled": true
   },
   "outputs": [],
   "source": [
    "model = load_model('model.h5')"
   ]
  },
  {
   "cell_type": "code",
   "execution_count": 34,
   "metadata": {},
   "outputs": [],
   "source": [
    "y_pred = model.predict(X_test,batch_size=1)"
   ]
  },
  {
   "cell_type": "code",
   "execution_count": 35,
   "metadata": {},
   "outputs": [
    {
     "data": {
      "text/plain": [
       "array([[[-0.67310593,  1.76456811]],\n",
       "\n",
       "       [[ 0.98262301, -0.54813953]],\n",
       "\n",
       "       [[-0.11630925,  1.74054817]],\n",
       "\n",
       "       [[ 0.07261442,  0.22151163]],\n",
       "\n",
       "       [[ 0.35825317,  0.48265781]],\n",
       "\n",
       "       [[ 1.75774964,  0.87749169]]])"
      ]
     },
     "execution_count": 35,
     "metadata": {},
     "output_type": "execute_result"
    }
   ],
   "source": [
    "X_test"
   ]
  },
  {
   "cell_type": "code",
   "execution_count": 36,
   "metadata": {},
   "outputs": [
    {
     "name": "stdout",
     "output_type": "stream",
     "text": [
      "[[ 0.08833814 -0.67310593  1.76456811]]\n",
      "[[-0.1461207   0.98262301 -0.54813953]]\n",
      "[[-0.11054715 -0.11630925  1.74054817]]\n",
      "[[0.01179178 0.07261442 0.22151163]]\n",
      "[[0.02921257 0.35825317 0.48265781]]\n",
      "[[-0.00888317  1.75774964  0.87749169]]\n"
     ]
    }
   ],
   "source": [
    "#reshape y_pred\n",
    "y_pred = y_pred.reshape(y_pred.shape[0], 1, y_pred.shape[1])\n",
    "#rebuild test set for inverse transform\n",
    "pred_test_set = []\n",
    "for index in range(0,len(y_pred)):\n",
    "    print (np.concatenate([y_pred[index],X_test[index]],axis=1))\n",
    "    pred_test_set.append(np.concatenate([y_pred[index],X_test[index]],axis=1))\n",
    "#reshape pred_test_set\n",
    "pred_test_set = np.array(pred_test_set)\n",
    "pred_test_set = pred_test_set.reshape(pred_test_set.shape[0], pred_test_set.shape[2])\n",
    "#inverse transform\n",
    "pred_test_set_inverted = scaler.inverse_transform(pred_test_set)"
   ]
  },
  {
   "cell_type": "code",
   "execution_count": 37,
   "metadata": {},
   "outputs": [],
   "source": [
    "result_list = []\n",
    "sales_dates = list(df_sales[-7:].date)\n",
    "act_sales = list(df_sales[-7:].sales)\n",
    "for index in range(0,len(pred_test_set_inverted)):\n",
    "    result_dict = {}\n",
    "    result_dict['pred_value'] = int(pred_test_set_inverted[index][0] + act_sales[index])\n",
    "    result_dict['date'] = sales_dates[index+1]\n",
    "    result_list.append(result_dict)\n",
    "df_result = pd.DataFrame(result_list)\n",
    "#for multistep prediction, replace act_sales with the predicted sales"
   ]
  },
  {
   "cell_type": "code",
   "execution_count": null,
   "metadata": {},
   "outputs": [],
   "source": []
  },
  {
   "cell_type": "code",
   "execution_count": 38,
   "metadata": {},
   "outputs": [
    {
     "data": {
      "text/html": [
       "<div>\n",
       "<style scoped>\n",
       "    .dataframe tbody tr th:only-of-type {\n",
       "        vertical-align: middle;\n",
       "    }\n",
       "\n",
       "    .dataframe tbody tr th {\n",
       "        vertical-align: top;\n",
       "    }\n",
       "\n",
       "    .dataframe thead th {\n",
       "        text-align: right;\n",
       "    }\n",
       "</style>\n",
       "<table border=\"1\" class=\"dataframe\">\n",
       "  <thead>\n",
       "    <tr style=\"text-align: right;\">\n",
       "      <th></th>\n",
       "      <th>pred_value</th>\n",
       "      <th>date</th>\n",
       "    </tr>\n",
       "  </thead>\n",
       "  <tbody>\n",
       "    <tr>\n",
       "      <th>0</th>\n",
       "      <td>311667</td>\n",
       "      <td>2020-05-01</td>\n",
       "    </tr>\n",
       "    <tr>\n",
       "      <th>1</th>\n",
       "      <td>376806</td>\n",
       "      <td>2020-06-01</td>\n",
       "    </tr>\n",
       "    <tr>\n",
       "      <th>2</th>\n",
       "      <td>369297</td>\n",
       "      <td>2020-07-01</td>\n",
       "    </tr>\n",
       "    <tr>\n",
       "      <th>3</th>\n",
       "      <td>383548</td>\n",
       "      <td>2020-08-01</td>\n",
       "    </tr>\n",
       "    <tr>\n",
       "      <th>4</th>\n",
       "      <td>414265</td>\n",
       "      <td>2020-09-01</td>\n",
       "    </tr>\n",
       "    <tr>\n",
       "      <th>5</th>\n",
       "      <td>557574</td>\n",
       "      <td>2020-10-01</td>\n",
       "    </tr>\n",
       "  </tbody>\n",
       "</table>\n",
       "</div>"
      ],
      "text/plain": [
       "   pred_value       date\n",
       "0      311667 2020-05-01\n",
       "1      376806 2020-06-01\n",
       "2      369297 2020-07-01\n",
       "3      383548 2020-08-01\n",
       "4      414265 2020-09-01\n",
       "5      557574 2020-10-01"
      ]
     },
     "execution_count": 38,
     "metadata": {},
     "output_type": "execute_result"
    }
   ],
   "source": [
    "df_result"
   ]
  },
  {
   "cell_type": "code",
   "execution_count": 39,
   "metadata": {},
   "outputs": [
    {
     "data": {
      "text/html": [
       "<div>\n",
       "<style scoped>\n",
       "    .dataframe tbody tr th:only-of-type {\n",
       "        vertical-align: middle;\n",
       "    }\n",
       "\n",
       "    .dataframe tbody tr th {\n",
       "        vertical-align: top;\n",
       "    }\n",
       "\n",
       "    .dataframe thead th {\n",
       "        text-align: right;\n",
       "    }\n",
       "</style>\n",
       "<table border=\"1\" class=\"dataframe\">\n",
       "  <thead>\n",
       "    <tr style=\"text-align: right;\">\n",
       "      <th></th>\n",
       "      <th>date</th>\n",
       "      <th>sales</th>\n",
       "    </tr>\n",
       "  </thead>\n",
       "  <tbody>\n",
       "    <tr>\n",
       "      <th>0</th>\n",
       "      <td>2019-12-01</td>\n",
       "      <td>312280</td>\n",
       "    </tr>\n",
       "    <tr>\n",
       "      <th>1</th>\n",
       "      <td>2020-01-01</td>\n",
       "      <td>349159</td>\n",
       "    </tr>\n",
       "    <tr>\n",
       "      <th>2</th>\n",
       "      <td>2020-02-01</td>\n",
       "      <td>265638</td>\n",
       "    </tr>\n",
       "    <tr>\n",
       "      <th>3</th>\n",
       "      <td>2020-03-01</td>\n",
       "      <td>348544</td>\n",
       "    </tr>\n",
       "    <tr>\n",
       "      <th>4</th>\n",
       "      <td>2020-04-01</td>\n",
       "      <td>292225</td>\n",
       "    </tr>\n",
       "    <tr>\n",
       "      <th>5</th>\n",
       "      <td>2020-05-01</td>\n",
       "      <td>373685</td>\n",
       "    </tr>\n",
       "    <tr>\n",
       "      <th>6</th>\n",
       "      <td>2020-06-01</td>\n",
       "      <td>363699</td>\n",
       "    </tr>\n",
       "    <tr>\n",
       "      <th>7</th>\n",
       "      <td>2020-07-01</td>\n",
       "      <td>369434</td>\n",
       "    </tr>\n",
       "    <tr>\n",
       "      <th>8</th>\n",
       "      <td>2020-08-01</td>\n",
       "      <td>398938</td>\n",
       "    </tr>\n",
       "    <tr>\n",
       "      <th>9</th>\n",
       "      <td>2020-09-01</td>\n",
       "      <td>544899</td>\n",
       "    </tr>\n",
       "    <tr>\n",
       "      <th>10</th>\n",
       "      <td>2020-10-01</td>\n",
       "      <td>594443</td>\n",
       "    </tr>\n",
       "  </tbody>\n",
       "</table>\n",
       "</div>"
      ],
      "text/plain": [
       "         date   sales\n",
       "0  2019-12-01  312280\n",
       "1  2020-01-01  349159\n",
       "2  2020-02-01  265638\n",
       "3  2020-03-01  348544\n",
       "4  2020-04-01  292225\n",
       "5  2020-05-01  373685\n",
       "6  2020-06-01  363699\n",
       "7  2020-07-01  369434\n",
       "8  2020-08-01  398938\n",
       "9  2020-09-01  544899\n",
       "10 2020-10-01  594443"
      ]
     },
     "execution_count": 39,
     "metadata": {},
     "output_type": "execute_result"
    }
   ],
   "source": [
    "df_sales"
   ]
  },
  {
   "cell_type": "code",
   "execution_count": 42,
   "metadata": {},
   "outputs": [],
   "source": [
    "df1 = df_sales[5::]"
   ]
  },
  {
   "cell_type": "code",
   "execution_count": 43,
   "metadata": {},
   "outputs": [],
   "source": [
    "df = pd.merge(df1,df_result,on='date')"
   ]
  },
  {
   "cell_type": "code",
   "execution_count": 44,
   "metadata": {},
   "outputs": [],
   "source": [
    "df['diff'] = df['sales']-df['pred_value']"
   ]
  },
  {
   "cell_type": "code",
   "execution_count": 49,
   "metadata": {},
   "outputs": [],
   "source": [
    "df['date'] = df['date'].astype(str)"
   ]
  },
  {
   "cell_type": "code",
   "execution_count": 50,
   "metadata": {},
   "outputs": [
    {
     "name": "stdout",
     "output_type": "stream",
     "text": [
      "2020-05-01\n",
      "2020-06-01\n",
      "2020-07-01\n",
      "2020-08-01\n",
      "2020-09-01\n",
      "2020-10-01\n"
     ]
    }
   ],
   "source": [
    "for i in df.itertuples():\n",
    "    print(i.date)"
   ]
  },
  {
   "cell_type": "code",
   "execution_count": 18,
   "metadata": {},
   "outputs": [],
   "source": []
  }
 ],
 "metadata": {
  "kernelspec": {
   "display_name": "Python 3",
   "language": "python",
   "name": "python3"
  },
  "language_info": {
   "codemirror_mode": {
    "name": "ipython",
    "version": 3
   },
   "file_extension": ".py",
   "mimetype": "text/x-python",
   "name": "python",
   "nbconvert_exporter": "python",
   "pygments_lexer": "ipython3",
   "version": "3.8.5"
  }
 },
 "nbformat": 4,
 "nbformat_minor": 4
}
